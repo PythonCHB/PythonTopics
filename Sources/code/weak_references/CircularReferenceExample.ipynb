{
 "metadata": {
  "name": "",
  "signature": "sha256:6106c592d67bf0055775d9644d606db693f0ab2910c56222c3c659123b58d373"
 },
 "nbformat": 3,
 "nbformat_minor": 0,
 "worksheets": [
  {
   "cells": [
    {
     "cell_type": "markdown",
     "metadata": {},
     "source": [
      "# Circular reference experiments:\n",
      "\n",
      "An example of a circular reference case: a parent-child relationship.\n"
     ]
    },
    {
     "cell_type": "code",
     "collapsed": false,
     "input": [
      "import sys"
     ],
     "language": "python",
     "metadata": {},
     "outputs": [],
     "prompt_number": 91
    },
    {
     "cell_type": "code",
     "collapsed": false,
     "input": [
      "# A child class\n",
      "# it keeps a reference to its parent.\n",
      "class MyChild(object):\n",
      "    def __init__(self, parent):\n",
      "        self.parent = parent\n",
      "\n",
      "        ## store some data so it will use appreciable memory\n",
      "        ## multiply by 1234 to reduce interning\n",
      "        self.data = [1234*i for i in range(100000)]\n"
     ],
     "language": "python",
     "metadata": {},
     "outputs": [],
     "prompt_number": 92
    },
    {
     "cell_type": "code",
     "collapsed": false,
     "input": [
      "# A parent class -- holds and creates children\n",
      "class MyParent(object):\n",
      "    def __init__(self):\n",
      "        self.children = []\n",
      "\n",
      "    def addChild(self):\n",
      "        \"\"\"\n",
      "        Create and add a child object\n",
      "        \"\"\"\n",
      "        child = MyChild(self)\n",
      "        self.children.append(child)\n",
      "        return child"
     ],
     "language": "python",
     "metadata": {},
     "outputs": [],
     "prompt_number": 93
    },
    {
     "cell_type": "code",
     "collapsed": false,
     "input": [
      "# use them:\n",
      "p = MyParent()\n",
      "c1 = p.addChild()\n",
      "c2 = p.addChild()"
     ],
     "language": "python",
     "metadata": {},
     "outputs": [],
     "prompt_number": 94
    },
    {
     "cell_type": "code",
     "collapsed": false,
     "input": [
      "print c1\n"
     ],
     "language": "python",
     "metadata": {},
     "outputs": [
      {
       "output_type": "stream",
       "stream": "stdout",
       "text": [
        "<__main__.MyChild object at 0x10371f390>\n"
       ]
      }
     ],
     "prompt_number": 95
    },
    {
     "cell_type": "code",
     "collapsed": false,
     "input": [
      "print c1.parent"
     ],
     "language": "python",
     "metadata": {},
     "outputs": [
      {
       "output_type": "stream",
       "stream": "stdout",
       "text": [
        "<__main__.MyParent object at 0x10371fcd0>\n"
       ]
      }
     ],
     "prompt_number": 96
    },
    {
     "cell_type": "code",
     "collapsed": false,
     "input": [
      "c2.parent is p"
     ],
     "language": "python",
     "metadata": {},
     "outputs": [
      {
       "metadata": {},
       "output_type": "pyout",
       "prompt_number": 97,
       "text": [
        "True"
       ]
      }
     ],
     "prompt_number": 97
    },
    {
     "cell_type": "code",
     "collapsed": false,
     "input": [
      "p.children[1] is c2"
     ],
     "language": "python",
     "metadata": {},
     "outputs": [
      {
       "metadata": {},
       "output_type": "pyout",
       "prompt_number": 98,
       "text": [
        "True"
       ]
      }
     ],
     "prompt_number": 98
    },
    {
     "cell_type": "markdown",
     "metadata": {},
     "source": [
      "### All the objects refer to each-other as we expect.\n",
      "\n",
      "\n",
      "### But what about the reference counts?\n"
     ]
    },
    {
     "cell_type": "code",
     "collapsed": false,
     "input": [
      "sys.getrefcount(p)"
     ],
     "language": "python",
     "metadata": {},
     "outputs": [
      {
       "metadata": {},
       "output_type": "pyout",
       "prompt_number": 99,
       "text": [
        "4"
       ]
      }
     ],
     "prompt_number": 99
    },
    {
     "cell_type": "code",
     "collapsed": false,
     "input": [
      "# Add some more children\n",
      "p.addChild()\n",
      "p.addChild()\n",
      "# then the refcount:\n",
      "sys.getrefcount(p)"
     ],
     "language": "python",
     "metadata": {},
     "outputs": [
      {
       "metadata": {},
       "output_type": "pyout",
       "prompt_number": 100,
       "text": [
        "6"
       ]
      }
     ],
     "prompt_number": 100
    },
    {
     "cell_type": "markdown",
     "metadata": {},
     "source": [
      "### What will the refcount be if we delete p?\n",
      "\n",
      "That only reduces it by 1.... still 5 left?\n",
      "\n",
      "### And what about c1 and c2?"
     ]
    },
    {
     "cell_type": "code",
     "collapsed": false,
     "input": [
      "sys.getrefcount(c1)\n",
      "sys.getrefcount(c2)"
     ],
     "language": "python",
     "metadata": {},
     "outputs": [
      {
       "metadata": {},
       "output_type": "pyout",
       "prompt_number": 101,
       "text": [
        "3"
       ]
      }
     ],
     "prompt_number": 101
    },
    {
     "cell_type": "markdown",
     "metadata": {},
     "source": [
      "So deleting them won't help either....\n",
      "\n",
      "Classic Circular reference problem -- these objects could live on forever."
     ]
    },
    {
     "cell_type": "markdown",
     "metadata": {},
     "source": [
      "### Enter Garbage Collection:"
     ]
    },
    {
     "cell_type": "code",
     "collapsed": false,
     "input": [
      "import gc\n",
      "gc.collect() # run once to clean things out..."
     ],
     "language": "python",
     "metadata": {},
     "outputs": [
      {
       "metadata": {},
       "output_type": "pyout",
       "prompt_number": 102,
       "text": [
        "0"
       ]
      }
     ],
     "prompt_number": 102
    },
    {
     "cell_type": "code",
     "collapsed": false,
     "input": [
      "gc.collect()"
     ],
     "language": "python",
     "metadata": {},
     "outputs": [
      {
       "metadata": {},
       "output_type": "pyout",
       "prompt_number": 103,
       "text": [
        "0"
       ]
      }
     ],
     "prompt_number": 103
    },
    {
     "cell_type": "markdown",
     "metadata": {},
     "source": [
      "yup -- it's clean"
     ]
    },
    {
     "cell_type": "code",
     "collapsed": false,
     "input": [
      "# delete the names:\n",
      "del p, c1, c2\n",
      "# try again:\n",
      "gc.collect()"
     ],
     "language": "python",
     "metadata": {},
     "outputs": [
      {
       "metadata": {},
       "output_type": "pyout",
       "prompt_number": 104,
       "text": [
        "15"
       ]
      }
     ],
     "prompt_number": 104
    },
    {
     "cell_type": "markdown",
     "metadata": {},
     "source": [
      "### But: What if objects have a ```__del__``` method?\n",
      "\n",
      "The garbage collector won't delete them (note: very common for compiled extension objects...)"
     ]
    },
    {
     "cell_type": "code",
     "collapsed": false,
     "input": [
      "class MyChild(object):\n",
      "    def __init__(self, parent):\n",
      "        self.parent = parent\n",
      "\n",
      "        ## store some data so it will use appreciable memory\n",
      "        ## multiply by 1234 to reduce interning\n",
      "        self.data = [1234*i for i in range(100000)]\n",
      "\n",
      "    #provide a deleter to defeat garbage collection..\n",
      "    def __del__(self):\n",
      "        # this way we can see when they get deleted\n",
      "        print 'MyChild deleted', id(self)\n",
      "\n",
      "class MyParent(object):\n",
      "    def __init__(self):\n",
      "        self.children = []\n",
      "    def addChild(self):\n",
      "        child = MyChild(self)\n",
      "        self.children.append(child)\n",
      "        return child\n",
      "    ## note: probably dont need a deleter on both, but just in case...\n",
      "    def __del__(self):\n",
      "        print 'MyParent deleted', id(self)"
     ],
     "language": "python",
     "metadata": {},
     "outputs": [],
     "prompt_number": 105
    },
    {
     "cell_type": "code",
     "collapsed": false,
     "input": [
      "# simple case -- no children\n",
      "p = MyParent()\n",
      "del p"
     ],
     "language": "python",
     "metadata": {},
     "outputs": [
      {
       "output_type": "stream",
       "stream": "stdout",
       "text": [
        "MyParent deleted 4352769872\n"
       ]
      }
     ],
     "prompt_number": 106
    },
    {
     "cell_type": "markdown",
     "metadata": {},
     "source": [
      "It is deleted\n"
     ]
    },
    {
     "cell_type": "code",
     "collapsed": false,
     "input": [
      "## multiple children:\n",
      "p = MyParent()\n",
      "p.addChild()\n",
      "p.addChild()\n",
      "p.addChild()"
     ],
     "language": "python",
     "metadata": {},
     "outputs": [
      {
       "metadata": {},
       "output_type": "pyout",
       "prompt_number": 107,
       "text": [
        "<__main__.MyChild at 0x103721150>"
       ]
      }
     ],
     "prompt_number": 107
    },
    {
     "cell_type": "code",
     "collapsed": false,
     "input": [
      "sys.getrefcount(p)"
     ],
     "language": "python",
     "metadata": {},
     "outputs": [
      {
       "metadata": {},
       "output_type": "pyout",
       "prompt_number": 108,
       "text": [
        "5"
       ]
      }
     ],
     "prompt_number": 108
    },
    {
     "cell_type": "code",
     "collapsed": false,
     "input": [
      "# clear out random stuff iPython created...\n",
      "gc.collect()"
     ],
     "language": "python",
     "metadata": {},
     "outputs": [
      {
       "metadata": {},
       "output_type": "pyout",
       "prompt_number": 109,
       "text": [
        "13"
       ]
      }
     ],
     "prompt_number": 109
    },
    {
     "cell_type": "code",
     "collapsed": false,
     "input": [
      "# call again\n",
      "gc.collect()"
     ],
     "language": "python",
     "metadata": {},
     "outputs": [
      {
       "metadata": {},
       "output_type": "pyout",
       "prompt_number": 110,
       "text": [
        "0"
       ]
      }
     ],
     "prompt_number": 110
    },
    {
     "cell_type": "code",
     "collapsed": false,
     "input": [
      "# no extra garbage:\n",
      "del p\n",
      "gc.collect()"
     ],
     "language": "python",
     "metadata": {},
     "outputs": [
      {
       "metadata": {},
       "output_type": "pyout",
       "prompt_number": 111,
       "text": [
        "0"
       ]
      }
     ],
     "prompt_number": 111
    },
    {
     "cell_type": "markdown",
     "metadata": {},
     "source": [
      "Still zero -- p and its children are still around....\n",
      "\n",
      "(```memcount.py``` demo....)"
     ]
    },
    {
     "cell_type": "markdown",
     "metadata": {},
     "source": [
      "## The solution: Weak References:\n",
      "\n",
      "http://docs.python.org/2/library/weakref.html\n",
      "\n",
      "The child doesn't need to keep the parent around if it's the only reference to it.\n",
      "\n",
      "So it can use a weak reference ```proxy``` object. A ```proxy``` object acts like a regular object, but the reference count is not increased\n"
     ]
    },
    {
     "cell_type": "code",
     "collapsed": false,
     "input": [
      "import weakref\n",
      "\n",
      "class MyChild(object):\n",
      "    def __init__(self, parent):\n",
      "        self.parent = weakref.proxy(parent)\n",
      "\n",
      "        ## store some data so it will use appreciable memory\n",
      "        ## multiply by 1234 to reduce interning\n",
      "        self.data = [1234*i for i in range(100000)]\n",
      "\n",
      "    def __del__(self):\n",
      "        # this way we can see when they get deleted\n",
      "        print 'MyChild deleted', id(self)"
     ],
     "language": "python",
     "metadata": {},
     "outputs": [],
     "prompt_number": 112
    },
    {
     "cell_type": "code",
     "collapsed": false,
     "input": [
      "p = MyParent()\n",
      "sys.getrefcount(p)"
     ],
     "language": "python",
     "metadata": {},
     "outputs": [
      {
       "metadata": {},
       "output_type": "pyout",
       "prompt_number": 113,
       "text": [
        "2"
       ]
      }
     ],
     "prompt_number": 113
    },
    {
     "cell_type": "code",
     "collapsed": false,
     "input": [
      "# now add some children\n",
      "p.addChild()\n",
      "p.addChild()\n",
      "sys.getrefcount(p)"
     ],
     "language": "python",
     "metadata": {},
     "outputs": [
      {
       "metadata": {},
       "output_type": "pyout",
       "prompt_number": 114,
       "text": [
        "2"
       ]
      }
     ],
     "prompt_number": 114
    },
    {
     "cell_type": "markdown",
     "metadata": {},
     "source": [
      "Reference count on parent has not increased."
     ]
    },
    {
     "cell_type": "code",
     "collapsed": false,
     "input": [
      "# but you can still get at the parent from the child\n",
      "p.children[1].parent"
     ],
     "language": "python",
     "metadata": {},
     "outputs": [
      {
       "metadata": {},
       "output_type": "pyout",
       "prompt_number": 115,
       "text": [
        "<__main__.MyParent at 0x103707c58>"
       ]
      }
     ],
     "prompt_number": 115
    },
    {
     "cell_type": "code",
     "collapsed": false,
     "input": [
      "del p"
     ],
     "language": "python",
     "metadata": {},
     "outputs": [
      {
       "output_type": "stream",
       "stream": "stdout",
       "text": [
        "MyParent deleted 4352770000\n",
        "MyChild deleted 4352767312\n",
        "MyChild deleted 4352766864\n"
       ]
      }
     ],
     "prompt_number": 116
    },
    {
     "cell_type": "markdown",
     "metadata": {},
     "source": [
      "\n",
      "And everything got deleted when the reference goes away."
     ]
    },
    {
     "cell_type": "code",
     "collapsed": false,
     "input": [
      "p = MyParent()\n",
      "c = p.addChild()"
     ],
     "language": "python",
     "metadata": {},
     "outputs": [],
     "prompt_number": 117
    },
    {
     "cell_type": "code",
     "collapsed": false,
     "input": [
      "c\n"
     ],
     "language": "python",
     "metadata": {},
     "outputs": [
      {
       "metadata": {},
       "output_type": "pyout",
       "prompt_number": 118,
       "text": [
        "<__main__.MyChild at 0x10371fcd0>"
       ]
      }
     ],
     "prompt_number": 118
    },
    {
     "cell_type": "code",
     "collapsed": false,
     "input": [
      "del p"
     ],
     "language": "python",
     "metadata": {},
     "outputs": [
      {
       "output_type": "stream",
       "stream": "stdout",
       "text": [
        "MyParent deleted 4352769680\n"
       ]
      }
     ],
     "prompt_number": 119
    },
    {
     "cell_type": "code",
     "collapsed": false,
     "input": [
      "print c\n"
     ],
     "language": "python",
     "metadata": {},
     "outputs": [
      {
       "output_type": "stream",
       "stream": "stdout",
       "text": [
        "<__main__.MyChild object at 0x10371fcd0>\n"
       ]
      }
     ],
     "prompt_number": 120
    },
    {
     "cell_type": "code",
     "collapsed": false,
     "input": [
      "c.parent ## does the child have a parent???\n"
     ],
     "language": "python",
     "metadata": {},
     "outputs": [
      {
       "metadata": {},
       "output_type": "pyout",
       "prompt_number": 121,
       "text": [
        "<weakproxy at 0x103707f70 to NoneType at 0x10017efa0>"
       ]
      }
     ],
     "prompt_number": 121
    },
    {
     "cell_type": "markdown",
     "metadata": {},
     "source": [
      "Nope -- but it doesn't crash, either!"
     ]
    },
    {
     "cell_type": "code",
     "collapsed": false,
     "input": [
      "p = MyParent()\n",
      "p.addChild()\n",
      "p.addChild()\n"
     ],
     "language": "python",
     "metadata": {},
     "outputs": [
      {
       "metadata": {},
       "output_type": "pyout",
       "prompt_number": 126,
       "text": [
        "<__main__.MyChild at 0x10371fed0>"
       ]
      }
     ],
     "prompt_number": 126
    },
    {
     "cell_type": "code",
     "collapsed": false,
     "input": [
      "p"
     ],
     "language": "python",
     "metadata": {},
     "outputs": [
      {
       "metadata": {},
       "output_type": "pyout",
       "prompt_number": 127,
       "text": [
        "<__main__.MyParent at 0x10371fe50>"
       ]
      }
     ],
     "prompt_number": 127
    },
    {
     "cell_type": "code",
     "collapsed": false,
     "input": [
      "sys.getrefcount(p)"
     ],
     "language": "python",
     "metadata": {},
     "outputs": [
      {
       "metadata": {},
       "output_type": "pyout",
       "prompt_number": 128,
       "text": [
        "8"
       ]
      }
     ],
     "prompt_number": 128
    }
   ],
   "metadata": {}
  }
 ]
}