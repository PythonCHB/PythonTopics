{
 "metadata": {
  "name": "",
  "signature": "sha256:d8288e3d5e96492b8e20d29325c6bf62635a18e235def376f684123dcdb19014"
 },
 "nbformat": 3,
 "nbformat_minor": 0,
 "worksheets": [
  {
   "cells": [
    {
     "cell_type": "markdown",
     "metadata": {},
     "source": [
      "# Circular reference experiments:\n",
      "\n",
      "An example of a circular reference case: a parent-child relationship.\n"
     ]
    },
    {
     "cell_type": "code",
     "collapsed": false,
     "input": [
      "import sys"
     ],
     "language": "python",
     "metadata": {},
     "outputs": [],
     "prompt_number": 1
    },
    {
     "cell_type": "code",
     "collapsed": false,
     "input": [
      "# A child class\n",
      "# it keeps a reference to its parent.\n",
      "class MyChild(object):\n",
      "    def __init__(self, parent):\n",
      "        self.parent = parent\n",
      "\n",
      "        ## store some data so it will use appreciable memory\n",
      "        ## multiply by 1234 to reduce interning\n",
      "        self.data = [1234*i for i in range(100000)]\n"
     ],
     "language": "python",
     "metadata": {},
     "outputs": [],
     "prompt_number": 2
    },
    {
     "cell_type": "code",
     "collapsed": false,
     "input": [
      "# A parent class -- holds and creates children\n",
      "class MyParent(object):\n",
      "    def __init__(self):\n",
      "        self.children = []\n",
      "\n",
      "    def addChild(self):\n",
      "        \"\"\"\n",
      "        Create and add a child object\n",
      "        \"\"\"\n",
      "        child = MyChild(self)\n",
      "        self.children.append(child)\n",
      "        return child"
     ],
     "language": "python",
     "metadata": {},
     "outputs": [],
     "prompt_number": 3
    },
    {
     "cell_type": "code",
     "collapsed": false,
     "input": [
      "# use them:\n",
      "p = MyParent()\n",
      "c1 = p.addChild()\n",
      "c2 = p.addChild()"
     ],
     "language": "python",
     "metadata": {},
     "outputs": [],
     "prompt_number": 4
    },
    {
     "cell_type": "code",
     "collapsed": false,
     "input": [
      "print c1\n"
     ],
     "language": "python",
     "metadata": {},
     "outputs": [
      {
       "output_type": "stream",
       "stream": "stdout",
       "text": [
        "<__main__.MyChild object at 0x104250650>\n"
       ]
      }
     ],
     "prompt_number": 5
    },
    {
     "cell_type": "code",
     "collapsed": false,
     "input": [
      "print c1.parent"
     ],
     "language": "python",
     "metadata": {},
     "outputs": [
      {
       "output_type": "stream",
       "stream": "stdout",
       "text": [
        "<__main__.MyParent object at 0x104250790>\n"
       ]
      }
     ],
     "prompt_number": 6
    },
    {
     "cell_type": "code",
     "collapsed": false,
     "input": [
      "c2.parent is p"
     ],
     "language": "python",
     "metadata": {},
     "outputs": [
      {
       "metadata": {},
       "output_type": "pyout",
       "prompt_number": 7,
       "text": [
        "True"
       ]
      }
     ],
     "prompt_number": 7
    },
    {
     "cell_type": "code",
     "collapsed": false,
     "input": [
      "p.children[1] is c2"
     ],
     "language": "python",
     "metadata": {},
     "outputs": [
      {
       "metadata": {},
       "output_type": "pyout",
       "prompt_number": 8,
       "text": [
        "True"
       ]
      }
     ],
     "prompt_number": 8
    },
    {
     "cell_type": "markdown",
     "metadata": {},
     "source": [
      "## All the objects refer to each-other as we expect.\n",
      "\n",
      "\n",
      "## But what about the reference counts?\n"
     ]
    },
    {
     "cell_type": "code",
     "collapsed": false,
     "input": [
      "sys.getrefcount(p)"
     ],
     "language": "python",
     "metadata": {},
     "outputs": [
      {
       "metadata": {},
       "output_type": "pyout",
       "prompt_number": 9,
       "text": [
        "4"
       ]
      }
     ],
     "prompt_number": 9
    },
    {
     "cell_type": "code",
     "collapsed": false,
     "input": [
      "# Add some more children\n",
      "p.addChild()\n",
      "p.addChild()\n",
      "# then the refcount:\n",
      "sys.getrefcount(p)"
     ],
     "language": "python",
     "metadata": {},
     "outputs": [
      {
       "metadata": {},
       "output_type": "pyout",
       "prompt_number": 10,
       "text": [
        "6"
       ]
      }
     ],
     "prompt_number": 10
    },
    {
     "cell_type": "markdown",
     "metadata": {},
     "source": [
      " ### What will the refcount be if we delete p?\n",
      "\n",
      "That only reduces it by 1.... still 5 left?\n",
      "\n",
      "### And what about c1 and c2?"
     ]
    },
    {
     "cell_type": "code",
     "collapsed": false,
     "input": [
      "sys.getrefcount(c1)\n",
      "sys.getrefcount(c2)"
     ],
     "language": "python",
     "metadata": {},
     "outputs": [
      {
       "metadata": {},
       "output_type": "pyout",
       "prompt_number": 11,
       "text": [
        "3"
       ]
      }
     ],
     "prompt_number": 11
    },
    {
     "cell_type": "markdown",
     "metadata": {},
     "source": [
      "So deleting them won't help either....\n",
      "\n",
      "Classic Circular reference problem -- these objects will live on forever.\n",
      "\n",
      "## Enter Garbage Collection:"
     ]
    },
    {
     "cell_type": "code",
     "collapsed": false,
     "input": [
      "import gc\n",
      "gc.collect()"
     ],
     "language": "python",
     "metadata": {},
     "outputs": [
      {
       "metadata": {},
       "output_type": "pyout",
       "prompt_number": 12,
       "text": [
        "246"
       ]
      }
     ],
     "prompt_number": 12
    },
    {
     "cell_type": "code",
     "collapsed": false,
     "input": [
      "# delete the names:\n",
      "del p, c1, c2\n",
      "# try again:\n",
      "gc.collect()"
     ],
     "language": "python",
     "metadata": {},
     "outputs": [
      {
       "metadata": {},
       "output_type": "pyout",
       "prompt_number": 13,
       "text": [
        "15"
       ]
      }
     ],
     "prompt_number": 13
    },
    {
     "cell_type": "markdown",
     "metadata": {},
     "source": [
      "### But: What if objects have a ```__del__``` method?\n",
      "\n",
      "The garbage collector won't delete them (note: very common for compiled extension objects...)"
     ]
    },
    {
     "cell_type": "code",
     "collapsed": false,
     "input": [
      "class MyChild(object):\n",
      "    def __init__(self, parent):\n",
      "        self.parent = parent\n",
      "\n",
      "        ## store some data so it will use appreciable memory\n",
      "        ## multiply by 1234 to reduce interning\n",
      "        self.data = [1234*i for i in range(100000)]\n",
      "\n",
      "    def __del__(self):\n",
      "        # this way we can see when they get deleted\n",
      "        print 'MyChild deleted', id(self)\n",
      "\n",
      "class MyParent(object):\n",
      "    def __init__(self):\n",
      "        self.children = []\n",
      "    def addChild(self):\n",
      "        child = MyChild(self)\n",
      "        self.children.append(child)\n",
      "        return child\n",
      "    def __del__(self):\n",
      "        print 'MyParent deleted', id(self)"
     ],
     "language": "python",
     "metadata": {},
     "outputs": [],
     "prompt_number": 14
    },
    {
     "cell_type": "code",
     "collapsed": false,
     "input": [
      "# simple case -- no children\n",
      "p = MyParent()\n",
      "del p"
     ],
     "language": "python",
     "metadata": {},
     "outputs": [
      {
       "output_type": "stream",
       "stream": "stdout",
       "text": [
        "MyParent deleted 4350968784\n"
       ]
      }
     ],
     "prompt_number": 15
    },
    {
     "cell_type": "markdown",
     "metadata": {},
     "source": [
      "It is deleted\n"
     ]
    },
    {
     "cell_type": "code",
     "collapsed": false,
     "input": [
      "## multiple children:\n",
      "p = MyParent()\n",
      "p.addChild()\n",
      "p.addChild()\n",
      "p.addChild()"
     ],
     "language": "python",
     "metadata": {},
     "outputs": [
      {
       "metadata": {},
       "output_type": "pyout",
       "prompt_number": 16,
       "text": [
        "<__main__.MyChild at 0x103579690>"
       ]
      }
     ],
     "prompt_number": 16
    },
    {
     "cell_type": "code",
     "collapsed": false,
     "input": [
      "sys.getrefcount(p)"
     ],
     "language": "python",
     "metadata": {},
     "outputs": [
      {
       "metadata": {},
       "output_type": "pyout",
       "prompt_number": 17,
       "text": [
        "5"
       ]
      }
     ],
     "prompt_number": 17
    },
    {
     "cell_type": "code",
     "collapsed": false,
     "input": [
      "# clear out random stuff iPython created...\n",
      "gc.collect()"
     ],
     "language": "python",
     "metadata": {},
     "outputs": [
      {
       "metadata": {},
       "output_type": "pyout",
       "prompt_number": 18,
       "text": [
        "13"
       ]
      }
     ],
     "prompt_number": 18
    },
    {
     "cell_type": "code",
     "collapsed": false,
     "input": [
      "# call again\n",
      "gc.collect()"
     ],
     "language": "python",
     "metadata": {},
     "outputs": [
      {
       "metadata": {},
       "output_type": "pyout",
       "prompt_number": 19,
       "text": [
        "0"
       ]
      }
     ],
     "prompt_number": 19
    },
    {
     "cell_type": "code",
     "collapsed": false,
     "input": [
      "# no extra garbage:\n",
      "del p\n",
      "gc.collect()"
     ],
     "language": "python",
     "metadata": {},
     "outputs": [
      {
       "metadata": {},
       "output_type": "pyout",
       "prompt_number": 20,
       "text": [
        "0"
       ]
      }
     ],
     "prompt_number": 20
    },
    {
     "cell_type": "markdown",
     "metadata": {},
     "source": [
      "Still zero -- p and its children are still around....\n",
      "\n",
      "(```memcount.py``` demo....)"
     ]
    },
    {
     "cell_type": "markdown",
     "metadata": {},
     "source": [
      "## The solution: Weak References:\n",
      "\n",
      "http://docs.python.org/2/library/weakref.html\n",
      "\n",
      "The child doesn't need to keep the parent around if it's the only reference to it.\n",
      "\n",
      "So it can use a weak reference ```proxy``` object. A ```proxy``` object acts like a regular object, but the reference count is not increased\n"
     ]
    },
    {
     "cell_type": "code",
     "collapsed": false,
     "input": [
      "import weakref\n",
      "\n",
      "class MyChild(object):\n",
      "    def __init__(self, parent):\n",
      "        self.parent = weakref.proxy(parent)\n",
      "\n",
      "        ## store some data so it will use appreciable memory\n",
      "        ## multiply by 1234 to reduce interning\n",
      "        self.data = [1234*i for i in range(100000)]\n",
      "\n",
      "    def __del__(self):\n",
      "        # this way we can see when they get deleted\n",
      "        print 'MyChild deleted', id(self)"
     ],
     "language": "python",
     "metadata": {},
     "outputs": [],
     "prompt_number": 21
    },
    {
     "cell_type": "code",
     "collapsed": false,
     "input": [
      "p = MyParent()\n",
      "sys.getrefcount(p)"
     ],
     "language": "python",
     "metadata": {},
     "outputs": [
      {
       "metadata": {},
       "output_type": "pyout",
       "prompt_number": 22,
       "text": [
        "2"
       ]
      }
     ],
     "prompt_number": 22
    },
    {
     "cell_type": "code",
     "collapsed": false,
     "input": [
      "# now add some children\n",
      "p.addChild()\n",
      "p.addChild()\n",
      "sys.getrefcount(p)"
     ],
     "language": "python",
     "metadata": {},
     "outputs": [
      {
       "metadata": {},
       "output_type": "pyout",
       "prompt_number": 23,
       "text": [
        "2"
       ]
      }
     ],
     "prompt_number": 23
    },
    {
     "cell_type": "markdown",
     "metadata": {},
     "source": [
      "Reference count on parent has not increased."
     ]
    },
    {
     "cell_type": "code",
     "collapsed": false,
     "input": [
      "# but you can still get at the parent from the child\n",
      "p.children[1].parent"
     ],
     "language": "python",
     "metadata": {},
     "outputs": [
      {
       "metadata": {},
       "output_type": "pyout",
       "prompt_number": 24,
       "text": [
        "<__main__.MyParent at 0x1042812b8>"
       ]
      }
     ],
     "prompt_number": 24
    },
    {
     "cell_type": "code",
     "collapsed": false,
     "input": [
      "del p"
     ],
     "language": "python",
     "metadata": {},
     "outputs": [
      {
       "output_type": "stream",
       "stream": "stdout",
       "text": [
        "MyParent deleted 4350968208\n",
        "MyChild deleted 4350968848\n",
        "MyChild deleted 4350968272\n"
       ]
      }
     ],
     "prompt_number": 25
    },
    {
     "cell_type": "markdown",
     "metadata": {},
     "source": [
      "\n",
      "And everything got deleted when the reference goes away."
     ]
    },
    {
     "cell_type": "code",
     "collapsed": false,
     "input": [
      "p = MyParent()\n",
      "c = p.addChild()"
     ],
     "language": "python",
     "metadata": {},
     "outputs": [],
     "prompt_number": 26
    },
    {
     "cell_type": "code",
     "collapsed": false,
     "input": [
      "c\n"
     ],
     "language": "python",
     "metadata": {},
     "outputs": [
      {
       "metadata": {},
       "output_type": "pyout",
       "prompt_number": 27,
       "text": [
        "<__main__.MyChild at 0x103568710>"
       ]
      }
     ],
     "prompt_number": 27
    },
    {
     "cell_type": "code",
     "collapsed": false,
     "input": [
      "del p"
     ],
     "language": "python",
     "metadata": {},
     "outputs": [
      {
       "output_type": "stream",
       "stream": "stdout",
       "text": [
        "MyParent deleted 4350971024\n"
       ]
      }
     ],
     "prompt_number": 28
    },
    {
     "cell_type": "code",
     "collapsed": false,
     "input": [
      "print c\n"
     ],
     "language": "python",
     "metadata": {},
     "outputs": [
      {
       "output_type": "stream",
       "stream": "stdout",
       "text": [
        "<__main__.MyChild object at 0x103568710>\n"
       ]
      }
     ],
     "prompt_number": 29
    },
    {
     "cell_type": "code",
     "collapsed": false,
     "input": [
      "c.parent\n"
     ],
     "language": "python",
     "metadata": {},
     "outputs": [
      {
       "output_type": "stream",
       "stream": "stderr",
       "text": [
        "/Library/Frameworks/Python.framework/Versions/2.7/lib/python2.7/site-packages/IPython/core/formatters.py:239: FormatterWarning: Exception in text/html formatter: weakly-referenced object no longer exists\n",
        "  FormatterWarning,\n",
        "/Library/Frameworks/Python.framework/Versions/2.7/lib/python2.7/site-packages/IPython/core/formatters.py:239: FormatterWarning: Exception in image/jpeg formatter: weakly-referenced object no longer exists\n",
        "  FormatterWarning,\n",
        "/Library/Frameworks/Python.framework/Versions/2.7/lib/python2.7/site-packages/IPython/core/formatters.py:239: FormatterWarning: Exception in image/svg+xml formatter: weakly-referenced object no longer exists\n",
        "  FormatterWarning,\n",
        "/Library/Frameworks/Python.framework/Versions/2.7/lib/python2.7/site-packages/IPython/core/formatters.py:239: FormatterWarning: Exception in image/png formatter: weakly-referenced object no longer exists\n",
        "  FormatterWarning,\n",
        "/Library/Frameworks/Python.framework/Versions/2.7/lib/python2.7/site-packages/IPython/core/formatters.py:239: FormatterWarning: Exception in application/javascript formatter: weakly-referenced object no longer exists\n",
        "  FormatterWarning,\n",
        "/Library/Frameworks/Python.framework/Versions/2.7/lib/python2.7/site-packages/IPython/core/formatters.py:239: FormatterWarning: Exception in text/latex formatter: weakly-referenced object no longer exists\n",
        "  FormatterWarning,\n",
        "/Library/Frameworks/Python.framework/Versions/2.7/lib/python2.7/site-packages/IPython/core/formatters.py:239: FormatterWarning: Exception in application/json formatter: weakly-referenced object no longer exists\n",
        "  FormatterWarning,\n",
        "/Library/Frameworks/Python.framework/Versions/2.7/lib/python2.7/site-packages/IPython/core/formatters.py:239: FormatterWarning: Exception in application/pdf formatter: weakly-referenced object no longer exists\n",
        "  FormatterWarning,\n"
       ]
      },
      {
       "metadata": {},
       "output_type": "pyout",
       "prompt_number": 30,
       "text": [
        "<weakproxy at 0x1042815d0 to NoneType at 0x10017efa0>"
       ]
      }
     ],
     "prompt_number": 30
    },
    {
     "cell_type": "code",
     "collapsed": false,
     "input": [
      "p = MyParent()\n",
      "p.addChild()\n",
      "p.addChild()\n"
     ],
     "language": "python",
     "metadata": {},
     "outputs": [
      {
       "metadata": {},
       "output_type": "pyout",
       "prompt_number": 31,
       "text": [
        "<__main__.MyChild at 0x10428d410>"
       ]
      }
     ],
     "prompt_number": 31
    },
    {
     "cell_type": "code",
     "collapsed": false,
     "input": [
      "p\n"
     ],
     "language": "python",
     "metadata": {},
     "outputs": [
      {
       "metadata": {},
       "output_type": "pyout",
       "prompt_number": 32,
       "text": [
        "<__main__.MyParent at 0x10428d3d0>"
       ]
      }
     ],
     "prompt_number": 32
    },
    {
     "cell_type": "code",
     "collapsed": false,
     "input": [
      "sys.getrefcount(p)\n"
     ],
     "language": "python",
     "metadata": {},
     "outputs": [
      {
       "metadata": {},
       "output_type": "pyout",
       "prompt_number": 33,
       "text": [
        "8"
       ]
      }
     ],
     "prompt_number": 33
    },
    {
     "cell_type": "code",
     "collapsed": false,
     "input": [
      "p.__del__()\n"
     ],
     "language": "python",
     "metadata": {},
     "outputs": [
      {
       "output_type": "stream",
       "stream": "stdout",
       "text": [
        "MyParent deleted 4364751824\n"
       ]
      }
     ],
     "prompt_number": 34
    },
    {
     "cell_type": "code",
     "collapsed": false,
     "input": [],
     "language": "python",
     "metadata": {},
     "outputs": [],
     "prompt_number": 34
    }
   ],
   "metadata": {}
  }
 ]
}